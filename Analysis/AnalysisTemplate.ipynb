{
 "cells": [
  {
   "cell_type": "markdown",
   "id": "3f663118",
   "metadata": {},
   "source": [
    "<h2> Imports </h2>"
   ]
  },
  {
   "cell_type": "code",
   "execution_count": 2,
   "id": "7ca46033",
   "metadata": {},
   "outputs": [
    {
     "name": "stdout",
     "output_type": "stream",
     "text": [
      "/home/phenoprojects/MC_Samples/CODIGO_ANALISIS_VBF_DM/Analysis/signal_folder\n"
     ]
    }
   ],
   "source": [
    "#import libraries\n",
    "import matplotlib.pyplot as plt\n",
    "import awkward as ak\n",
    "import pandas as pd\n",
    "import numpy as np\n",
    "import uproot\n",
    "from hist import Hist, axis\n",
    "import os\n",
    "\n",
    "import calculation_functions\n",
    "import files_functions\n",
    "import plot_function\n"
   ]
  },
  {
   "cell_type": "markdown",
   "id": "f9491cca",
   "metadata": {},
   "source": [
    "<h3> Set up Important Variables </h3>"
   ]
  },
  {
   "cell_type": "code",
   "execution_count": 3,
   "id": "d4a3696e",
   "metadata": {},
   "outputs": [],
   "source": [
    "num_cuts = 0\n",
    "cuts_strings = []\n",
    "Signal_numevents = []\n",
    "Background_numevents = []\n",
    "significances = []"
   ]
  },
  {
   "cell_type": "markdown",
   "id": "4df053f3",
   "metadata": {},
   "source": [
    "<h2> Find Data Files </h2>"
   ]
  },
  {
   "cell_type": "code",
   "execution_count": 4,
   "id": "24a1056b",
   "metadata": {},
   "outputs": [],
   "source": [
    "#Setup dictionaries.\n",
    "\n",
    "signal_files = {     #times 1000 to convert from pb to fb\n",
    "            \"DMsimpl_spin0_Y0gg1_DeltaEta2.root\": 1.64749 * 1000,\n",
    "            \n",
    "            }\n",
    "\n",
    "background_folders = {#\"BKG_Wjets_WToLNu\" : 47744.85 * 1000,\n",
    "                       \"Wlnu_jets\": 61082.51494 * 1000,\n",
    "                       \"Znunu_jets\": 12995.62137 * 1000}  \n",
    "\n",
    "\n",
    "\n",
    "binning = {\n",
    "    \"PT\": {\"range\": (20, 1000), \"bins\": 14},  # (300 - 20) / 20 = 14 bins\n",
    "    \"Eta*Eta\": {\"range\": (-25, 25), \"bins\": 500},  # (25 - (-25)) / 0.1 = 500 bins\n",
    "    \"Delta_Eta\": {\"range\": (0, 10), \"bins\": 100},  # (10 - 0) / 0.1 = 100 bins\n",
    "    \"Transverse\": {\"range\": (0, 500), \"bins\": 100},  # (2000 - 500) / 20 = 75 bins\n",
    "    \"Eta\": {\"range\": (-5, 5), \"bins\": 100},  # (5 - (-5)) / 0.1 = 100 bins\n",
    "    \"Phi\": {\"range\": (-(np.pi), np.pi), \"bins\": 63},  \n",
    "    \"Invariant\": {\"range\": (50, 3000), \"bins\": 148}  # (3000 - 50) / 20 = 147.5, rounded to 148 bins\n",
    "}"
   ]
  },
  {
   "cell_type": "markdown",
   "id": "0cceed19",
   "metadata": {},
   "source": [
    "<h2> Retrieve and Store Weights </h2>"
   ]
  },
  {
   "cell_type": "code",
   "execution_count": 5,
   "id": "860d6f2b",
   "metadata": {},
   "outputs": [
    {
     "name": "stdout",
     "output_type": "stream",
     "text": [
      "signal_folder/DMsimpl_spin0_Y0gg1_DeltaEta2.root\n",
      "{'Wlnu_jets': 61082514.94, 'Znunu_jets': 12995621.370000001}\n",
      "Warning: .git not found in background_files dictionary.\n",
      "{'Wlnu_jets': 61082514.94, 'Znunu_jets': 12995621.370000001}\n",
      "Warning: .gitignore not found in background_files dictionary.\n",
      "{'Wlnu_jets': 61082514.94, 'Znunu_jets': 12995621.370000001}\n",
      "Warning: MAIN.ipynb not found in background_files dictionary.\n",
      "{'Wlnu_jets': 61082514.94, 'Znunu_jets': 12995621.370000001}\n",
      "Warning: MET0.png not found in background_files dictionary.\n",
      "{'Wlnu_jets': 61082514.94, 'Znunu_jets': 12995621.370000001}\n",
      "Warning: PhiMet0.png not found in background_files dictionary.\n",
      "{'Wlnu_jets': 61082514.94, 'Znunu_jets': 12995621.370000001}\n",
      "Warning: README.md not found in background_files dictionary.\n",
      "{'Wlnu_jets': 61082514.94, 'Znunu_jets': 12995621.370000001}\n",
      "Warning: __pycache__ not found in background_files dictionary.\n",
      "{'Wlnu_jets': 61082514.94, 'Znunu_jets': 12995621.370000001}\n",
      "Warning: calculation_functions.py not found in background_files dictionary.\n",
      "{'Wlnu_jets': 61082514.94, 'Znunu_jets': 12995621.370000001}\n",
      "Warning: files_functions.py not found in background_files dictionary.\n",
      "{'Wlnu_jets': 61082514.94, 'Znunu_jets': 12995621.370000001}\n",
      "Warning: plot_function.py not found in background_files dictionary.\n",
      "{'Wlnu_jets': 61082514.94, 'Znunu_jets': 12995621.370000001}\n",
      "Warning: setup_variables.py not found in background_files dictionary.\n",
      "{'Wlnu_jets': 61082514.94, 'Znunu_jets': 12995621.370000001}\n",
      "Warning: signal_folder not found in background_files dictionary.\n"
     ]
    }
   ],
   "source": [
    "signal_weights=files_functions.get_weights(\"signal_folder\",\"signal\")\n",
    "background_weights = files_functions.get_weights(os.getcwd(), \"background\", signal_files,background_folders)\n",
    "\n",
    "#TODO fix/remove those \"warning\" prints\n"
   ]
  },
  {
   "cell_type": "markdown",
   "id": "c084ff2c",
   "metadata": {},
   "source": [
    "<h1>  - - PLOTTING - - </h1>"
   ]
  },
  {
   "cell_type": "markdown",
   "id": "18abdb08",
   "metadata": {},
   "source": [
    "<h2> Initial Plots without any Cuts </h2>"
   ]
  },
  {
   "cell_type": "markdown",
   "id": "37746003",
   "metadata": {},
   "source": [
    "<h3> Plot MET </h3>"
   ]
  },
  {
   "cell_type": "code",
   "execution_count": 7,
   "id": "549bee3c",
   "metadata": {},
   "outputs": [
    {
     "name": "stdout",
     "output_type": "stream",
     "text": [
      "{'Wlnu_jets': 61082514.94, 'Znunu_jets': 12995621.370000001}\n",
      "['PhiMet0.png', 'Wlnu_jets', '.git', '.gitignore', 'plot_function.py', 'signal_folder', 'MAIN.ipynb', 'files_functions.py', 'setup_variables.py', '__pycache__', 'Znunu_jets', 'calculation_functions.py', 'README.md', 'MET0.png']\n"
     ]
    },
    {
     "data": {
      "text/plain": [
       "(494128.3807200007, 1978493765659.8337)"
      ]
     },
     "execution_count": 7,
     "metadata": {},
     "output_type": "execute_result"
    },
    {
     "data": {
      "image/png": "[encoded data removed]",
      "text/plain": [
       "<Figure size 720x432 with 1 Axes>"
      ]
     },
     "metadata": {
      "needs_background": "light"
     },
     "output_type": "display_data"
    }
   ],
   "source": [
    "plot_function.PlotMET(None,signal_weights,background_weights)"
   ]
  },
  {
   "cell_type": "markdown",
   "id": "d4a9cbe4",
   "metadata": {},
   "source": [
    "<h3> Plot PhiMet </h3>\n"
   ]
  },
  {
   "cell_type": "code",
   "execution_count": null,
   "id": "d1e02eda",
   "metadata": {},
   "outputs": [],
   "source": [
    "plot_function.PlotPhiMet(None,signal_weight_list,background_weight_list)\n"
   ]
  },
  {
   "cell_type": "markdown",
   "id": "946bc95b",
   "metadata": {},
   "source": [
    "<h3> Plot PTJ0,J1 </h3>"
   ]
  },
  {
   "cell_type": "code",
   "execution_count": null,
   "id": "95a3a436",
   "metadata": {},
   "outputs": [],
   "source": [
    "plot_function.PlotJets(\"PT\",\"PT\",None,signal_weight_list,background_weight_list)"
   ]
  },
  {
   "cell_type": "markdown",
   "id": "0dab771b",
   "metadata": {},
   "source": [
    "<h3> Plot PhiJ0,J1</h3>"
   ]
  },
  {
   "cell_type": "code",
   "execution_count": null,
   "id": "69c07a00",
   "metadata": {},
   "outputs": [],
   "source": [
    "plot_function.PlotJets(\"Phi\",\"Phi\",None,signal_weight_list,background_weight_list)"
   ]
  },
  {
   "cell_type": "markdown",
   "metadata": {},
   "source": [
    "<h3> Plot EtaJ0,J1 </h3>"
   ]
  },
  {
   "cell_type": "code",
   "execution_count": null,
   "id": "567572c2",
   "metadata": {},
   "outputs": [],
   "source": [
    "plot_function.PlotJets(\"Eta\",\"Eta\",None,signal_weight_list,background_weight_list)"
   ]
  },
  {
   "cell_type": "markdown",
   "id": "070c142b",
   "metadata": {},
   "source": [
    "<h3> Plot Eta(j0)*Eta(j1)</h3>"
   ]
  },
  {
   "cell_type": "code",
   "execution_count": null,
   "id": "6138ea10",
   "metadata": {},
   "outputs": [],
   "source": [
    "etaeta_sig_hist, etaeta_bkg_hist = plot_function.PlotEtaEta(None,signal_weight_list,background_weight_list)\n"
   ]
  },
  {
   "cell_type": "markdown",
   "id": "b6a626bb",
   "metadata": {},
   "source": [
    "<h3> Plot DeltaEta</h3>"
   ]
  },
  {
   "cell_type": "code",
   "execution_count": null,
   "id": "e59c4532",
   "metadata": {},
   "outputs": [],
   "source": [
    "deltaeta_sig_hist, deltaeta_bkg_hist = plot_function.PlotDeltaJets(None,signal_weight_list,background_weight_list)"
   ]
  },
  {
   "cell_type": "markdown",
   "id": "1e009961",
   "metadata": {},
   "source": [
    "<h3> Plot InvariantMass </h3>"
   ]
  },
  {
   "cell_type": "code",
   "execution_count": null,
   "id": "b1eff361",
   "metadata": {},
   "outputs": [],
   "source": [
    "currSigEvents, currBkgEvents = plot_function.PlotInvariantMass(None,signal_weight_list,background_weight_list)\n"
   ]
  },
  {
   "cell_type": "markdown",
   "id": "1568f204",
   "metadata": {},
   "source": [
    "<h1> Before Any Cuts </h1>"
   ]
  },
  {
   "cell_type": "code",
   "execution_count": null,
   "id": "e584823a",
   "metadata": {},
   "outputs": [],
   "source": [
    "#Add current statistics to cut chart\n",
    "Signal_numevents.append(currSigEvents)\n",
    "Background_numevents.append(currBkgEvents)\n",
    "\n",
    "currSignificance = calculation_functions.calculateSignificance(numSig=currSigEvents, numBkg=currBkgEvents)\n",
    "significances.append(currSignificance)"
   ]
  },
  {
   "cell_type": "markdown",
   "id": "bbd97636",
   "metadata": {},
   "source": []
  },
  {
   "cell_type": "markdown",
   "id": "997e1cd4",
   "metadata": {},
   "source": [
    "<h2> Cut 1 </h2>\n",
    "\n",
    "<h3> Eta(j0)*Eta(j1) < 0/h3>"
   ]
  },
  {
   "cell_type": "code",
   "execution_count": null,
   "id": "a4d0c2c8",
   "metadata": {},
   "outputs": [],
   "source": [
    "#Cut for eta(j0)*eta(j1) >=0\n",
    "def mask_etaeta_condition(df):\n",
    "    # Extract Eta for j0 and j1\n",
    "    eta_j0 = df[\"Jet.Eta\"].apply(lambda x: x[0] if len(x) > 0 else None)\n",
    "    eta_j1 = df[\"Jet.Eta\"].apply(lambda x: x[1] if len(x) > 1 else None)\n",
    "\n",
    "    # Create mask where Eta(j0) * Eta(j1) < 0\n",
    "    return (eta_j0 * eta_j1) < 0\n",
    "\n",
    "maskList.append(mask_etaeta_condition)\n",
    "cuts_strings.append(\"Eta(j0) * Eta(j1) < 0\")"
   ]
  },
  {
   "cell_type": "code",
   "execution_count": null,
   "id": "a4f93d97",
   "metadata": {},
   "outputs": [],
   "source": [
    "# Plot and store necessary calculations\n",
    "currSigEvents, currBkgEvents = plot_function.PlotInvariantMass(maskList,signal_weight_list,background_weight_list)\n",
    "currSignificance = calculation_functions.calculateSignificance(currSigEvents, currBkgEvents)\n",
    "\n",
    "Signal_numevents.append(currSigEvents)\n",
    "Background_numevents.append(currSigEvents)\n",
    "significances.append(currSignificance)\n"
   ]
  },
  {
   "cell_type": "markdown",
   "id": "5aaf5b3d",
   "metadata": {},
   "source": [
    "<h2> Cut 2 </h2>\n",
    "\n",
    "<h3> Pt(j0) > 30</h3>"
   ]
  },
  {
   "cell_type": "code",
   "execution_count": null,
   "id": "89010913",
   "metadata": {},
   "outputs": [],
   "source": []
  }
 ],
 "metadata": {
  "kernelspec": {
   "display_name": "Python 3",
   "language": "python",
   "name": "python3"
  },
  "language_info": {
   "codemirror_mode": {
    "name": "ipython",
    "version": 3
   },
   "file_extension": ".py",
   "mimetype": "text/x-python",
   "name": "python",
   "nbconvert_exporter": "python",
   "pygments_lexer": "ipython3",
   "version": "3.10.12"
  }
 },
 "nbformat": 4,
 "nbformat_minor": 5
}
